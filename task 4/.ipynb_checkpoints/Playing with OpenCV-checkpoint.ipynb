{
 "cells": [
  {
   "cell_type": "markdown",
   "id": "04e4ee66",
   "metadata": {},
   "source": [
    "# Task 4.1"
   ]
  },
  {
   "cell_type": "code",
   "execution_count": 1,
   "id": "1682177c",
   "metadata": {},
   "outputs": [],
   "source": [
    "import cv2\n",
    "import numpy as np"
   ]
  },
  {
   "cell_type": "code",
   "execution_count": 30,
   "id": "93f52172",
   "metadata": {},
   "outputs": [
    {
     "data": {
      "text/plain": [
       "-1"
      ]
     },
     "execution_count": 30,
     "metadata": {},
     "output_type": "execute_result"
    }
   ],
   "source": [
    "img = np.zeros([500,500,3])\n",
    "pt1 = (200, 100)\n",
    "pt2 = (100, 200)\n",
    "pt3 = (300, 200)\n",
    "cv2.circle(img, pt1, 2, (0,0,255), -1)\n",
    "cv2.circle(img, pt2, 2, (0,0,255), -1)\n",
    "cv2.circle(img, pt3, 2, (0,0,255), -1)\n",
    "triangle_cnt = np.array( [pt1, pt2, pt3])\n",
    "cv2.drawContours(img, [triangle_cnt], 0, (0,0,255), -1)\n",
    "cv2.rectangle(img,(100,200),(300,400),[0,165,255],-1)\n",
    "cv2.rectangle(img,(150,250),(250,400),[255,255,255],-1)\n",
    "cv2.imshow(\"image\", img)\n",
    "cv2.imwrite(\"pic.jpg\",img)\n",
    "cv2.waitKey()"
   ]
  },
  {
   "cell_type": "code",
   "execution_count": null,
   "id": "22341e20",
   "metadata": {},
   "outputs": [],
   "source": []
  },
  {
   "cell_type": "markdown",
   "id": "787d0b86",
   "metadata": {},
   "source": [
    "# Task 4.2"
   ]
  },
  {
   "cell_type": "code",
   "execution_count": 84,
   "id": "d3919bda",
   "metadata": {},
   "outputs": [
    {
     "data": {
      "text/plain": [
       "True"
      ]
     },
     "execution_count": 84,
     "metadata": {},
     "output_type": "execute_result"
    }
   ],
   "source": [
    "pic1 = cv2.imread('pic1.jpg')\n",
    "pic2 = cv2.imread('pic2.jpg')\n",
    "crop2 = pic2[405:605,415:615]\n",
    "pic1[0:200,200:400] = crop2\n",
    "cv2.imwrite(\"edit1.jpg\",pic1)"
   ]
  },
  {
   "cell_type": "code",
   "execution_count": 85,
   "id": "8c51d5e5",
   "metadata": {},
   "outputs": [
    {
     "data": {
      "text/plain": [
       "True"
      ]
     },
     "execution_count": 85,
     "metadata": {},
     "output_type": "execute_result"
    }
   ],
   "source": [
    "pic1 = cv2.imread('pic1.jpg')\n",
    "pic2 = cv2.imread('pic2.jpg')\n",
    "crop1 = pic1[0:200,200:400]\n",
    "pic2[405:605,415:615] = crop1\n",
    "cv2.imwrite(\"edit2.jpg\",pic2)"
   ]
  },
  {
   "cell_type": "code",
   "execution_count": null,
   "id": "11aaa9db",
   "metadata": {},
   "outputs": [],
   "source": []
  },
  {
   "cell_type": "markdown",
   "id": "4ec0a751",
   "metadata": {},
   "source": [
    "# Task 4.3"
   ]
  },
  {
   "cell_type": "code",
   "execution_count": 2,
   "id": "85865b62",
   "metadata": {},
   "outputs": [],
   "source": [
    "import cv2\n",
    "import numpy as np"
   ]
  },
  {
   "cell_type": "code",
   "execution_count": 3,
   "id": "5a6cb812",
   "metadata": {},
   "outputs": [
    {
     "data": {
      "text/plain": [
       "(416, 327, 3)"
      ]
     },
     "execution_count": 3,
     "metadata": {},
     "output_type": "execute_result"
    }
   ],
   "source": [
    "levi = cv2.imread('levi.jpeg')\n",
    "eren = cv2.imread('eren.png')\n",
    "levi.shape"
   ]
  },
  {
   "cell_type": "code",
   "execution_count": 4,
   "id": "e2be9b73",
   "metadata": {},
   "outputs": [
    {
     "data": {
      "text/plain": [
       "(941, 890, 3)"
      ]
     },
     "execution_count": 4,
     "metadata": {},
     "output_type": "execute_result"
    }
   ],
   "source": [
    "eren.shape"
   ]
  },
  {
   "cell_type": "code",
   "execution_count": 5,
   "id": "628b66a7",
   "metadata": {},
   "outputs": [
    {
     "data": {
      "text/plain": [
       "(416, 327, 3)"
      ]
     },
     "execution_count": 5,
     "metadata": {},
     "output_type": "execute_result"
    }
   ],
   "source": [
    "eren = cv2.resize(eren, dsize=(327,416), interpolation=cv2.INTER_CUBIC)\n",
    "eren.shape"
   ]
  },
  {
   "cell_type": "code",
   "execution_count": 7,
   "id": "66aed43f",
   "metadata": {},
   "outputs": [
    {
     "data": {
      "text/plain": [
       "-1"
      ]
     },
     "execution_count": 7,
     "metadata": {},
     "output_type": "execute_result"
    }
   ],
   "source": [
    "collage = np.hstack((eren,levi))\n",
    "cv2.imshow('Eren and Levi',collage)\n",
    "cv2.imwrite(\"eren_and_levi.jpg\",collage)\n",
    "cv2.waitKey()"
   ]
  },
  {
   "cell_type": "code",
   "execution_count": null,
   "id": "157d0013",
   "metadata": {},
   "outputs": [],
   "source": []
  }
 ],
 "metadata": {
  "kernelspec": {
   "display_name": "Python 3",
   "language": "python",
   "name": "python3"
  },
  "language_info": {
   "codemirror_mode": {
    "name": "ipython",
    "version": 3
   },
   "file_extension": ".py",
   "mimetype": "text/x-python",
   "name": "python",
   "nbconvert_exporter": "python",
   "pygments_lexer": "ipython3",
   "version": "3.8.8"
  }
 },
 "nbformat": 4,
 "nbformat_minor": 5
}
